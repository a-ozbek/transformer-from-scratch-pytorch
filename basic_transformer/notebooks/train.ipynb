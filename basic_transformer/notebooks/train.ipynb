{
 "cells": [
  {
   "cell_type": "code",
   "execution_count": null,
   "metadata": {},
   "outputs": [],
   "source": [
    "import comet_ml\n",
    "import os\n",
    "import json\n",
    "import multiprocessing\n",
    "import numpy as np\n",
    "import pandas as pd\n",
    "import matplotlib.pyplot as plt\n",
    "%matplotlib inline\n",
    "from tqdm import tqdm, tqdm_notebook\n",
    "import keras\n",
    "import torch\n",
    "import torch.nn as nn\n",
    "import torch.optim as optim\n",
    "from torch.utils.data import DataLoader\n",
    "from ml_util.monitor.comet_ml_exp import initialize_comet_ml_experiment\n",
    "from basic_transformer.models.basic_transformer import BasicTransformer\n",
    "from basic_transformer import utils as local_util\n",
    "RANDOM_SEED = 43\n",
    "np.random.seed(RANDOM_SEED)"
   ]
  },
  {
   "cell_type": "code",
   "execution_count": null,
   "metadata": {},
   "outputs": [],
   "source": [
    "DATASET = 'yelp'  # 'yelp' or 'imdb'\n",
    "DIM = 128\n",
    "NUM_WORDS = 5_000\n",
    "TEXT_COLUMN = 'review'\n",
    "LABEL_COLUMN = 'sentiment'\n",
    "LABEL_MAPPING = {'negative': 0, 'positive': 1}\n",
    "MAX_SEQ_LEN = 128\n",
    "# dataloaders\n",
    "BATCH_SIZE = 16\n",
    "SHUFFLE = True\n",
    "DEBUG_DF = False"
   ]
  },
  {
   "cell_type": "code",
   "execution_count": null,
   "metadata": {},
   "outputs": [],
   "source": [
    "# get model\n",
    "model = BasicTransformer(dim=DIM, num_embeddings=NUM_WORDS, embedding_dim=DIM)"
   ]
  },
  {
   "cell_type": "code",
   "execution_count": null,
   "metadata": {},
   "outputs": [],
   "source": [
    "if DATASET == 'yelp':\n",
    "    df = pd.read_csv(\"/media/can/MyData/datasets/yelp/df.csv\")\n",
    "    df['sentiment'] = df['stars'].replace({1: 'negative', 5: 'positive'})\n",
    "    df = df.rename(columns={'text': 'review'})\n",
    "    df = df.sample(n=50_000, random_state=RANDOM_SEED)\n",
    "elif DATASET == 'imdb':\n",
    "    df = pd.read_csv(\"/media/can/MyData/datasets/imdb-50k-movie-review/IMDB Dataset.csv\")\n",
    "else:\n",
    "    raise ValueError(\"Invalid data: {}\".format(str(DATASET)))"
   ]
  },
  {
   "cell_type": "code",
   "execution_count": null,
   "metadata": {},
   "outputs": [],
   "source": [
    "txts_positive = df[df['sentiment'] == 'positive']['review'].sample(3).tolist()\n",
    "txts_negative = df[df['sentiment'] == 'negative']['review'].sample(3).tolist()"
   ]
  },
  {
   "cell_type": "code",
   "execution_count": null,
   "metadata": {},
   "outputs": [],
   "source": [
    "lens = df['review'].apply(lambda x: len(x.split(' ')))\n",
    "lens.mean()"
   ]
  },
  {
   "cell_type": "code",
   "execution_count": null,
   "metadata": {
    "scrolled": true
   },
   "outputs": [],
   "source": [
    "# generate a fake df for debugging\n",
    "if DEBUG_DF:\n",
    "    n_positive, n_negative = 5000, 5000\n",
    "    positive_label, negative_label = 'positive', 'negative'\n",
    "    positive_text = ' '.join(['good'] * 10)\n",
    "    negative_text = ' '.join(['bad'] * 10)\n",
    "    df = [(positive_text, positive_label)] * n_positive + [(negative_text, negative_label)] * n_negative\n",
    "    df = pd.DataFrame(df)\n",
    "    df.columns = ('review', 'sentiment')\n",
    "    df"
   ]
  },
  {
   "cell_type": "code",
   "execution_count": null,
   "metadata": {},
   "outputs": [],
   "source": [
    "datagen = local_util.dataset_generator.TextDataset(df=df, \n",
    "                                                   num_words=NUM_WORDS, \n",
    "                                                   text_column=TEXT_COLUMN, \n",
    "                                                   label_column=LABEL_COLUMN, \n",
    "                                                   label_mapping=LABEL_MAPPING, \n",
    "                                                   max_seq_len=MAX_SEQ_LEN)"
   ]
  },
  {
   "cell_type": "code",
   "execution_count": null,
   "metadata": {},
   "outputs": [],
   "source": [
    "dataloader = DataLoader(dataset=datagen,  \n",
    "                        batch_size=BATCH_SIZE, \n",
    "                        num_workers=multiprocessing.cpu_count(), \n",
    "                        shuffle=SHUFFLE)"
   ]
  },
  {
   "cell_type": "code",
   "execution_count": null,
   "metadata": {},
   "outputs": [],
   "source": [
    "model.cuda()"
   ]
  },
  {
   "cell_type": "code",
   "execution_count": null,
   "metadata": {},
   "outputs": [],
   "source": [
    "# loss and optimizer\n",
    "criterion = nn.BCELoss()\n",
    "optimizer = optim.SGD(model.parameters(), lr=0.001, momentum=0.9)"
   ]
  },
  {
   "cell_type": "code",
   "execution_count": null,
   "metadata": {},
   "outputs": [],
   "source": [
    "# initialize comet experiment\n",
    "COMET_ML_EXPERIMENT, \\\n",
    "COMET_ML_EXPERIMENT_LINK = initialize_comet_ml_experiment(model_name=local_util.config.PROJECT_NAME, \n",
    "                                                          model_version='x.0.0')"
   ]
  },
  {
   "cell_type": "code",
   "execution_count": null,
   "metadata": {},
   "outputs": [],
   "source": []
  },
  {
   "cell_type": "code",
   "execution_count": null,
   "metadata": {
    "scrolled": true
   },
   "outputs": [],
   "source": [
    "losses = list()\n",
    "running_loss = 0.0\n",
    "every = 200\n",
    "for epoch in range(2):\n",
    "    for i, x in tqdm_notebook(enumerate(dataloader), total=len(dataloader)):\n",
    "        inputs = x['seq']\n",
    "        labels = x['label'].float()\n",
    "\n",
    "        inputs = inputs.cuda()\n",
    "        labels = labels.cuda()\n",
    "\n",
    "        #\n",
    "        optimizer.zero_grad()\n",
    "\n",
    "        # \n",
    "        outputs = model(inputs)\n",
    "        loss = criterion(outputs, labels)\n",
    "        loss.backward()\n",
    "        optimizer.step()\n",
    "        \n",
    "        if i % 2 == 0:\n",
    "            print('loss:', loss)\n",
    "\n",
    "        # print statistics\n",
    "        running_loss += loss.item()\n",
    "        if i % every == every - 1:    # print every 2000 mini-batches\n",
    "            print('[%d, %5d] loss: %.3f' %\n",
    "                  (epoch + 1, i + 1, running_loss / every))\n",
    "            running_loss = 0.0"
   ]
  },
  {
   "cell_type": "code",
   "execution_count": null,
   "metadata": {},
   "outputs": [],
   "source": []
  },
  {
   "cell_type": "code",
   "execution_count": null,
   "metadata": {},
   "outputs": [],
   "source": []
  },
  {
   "cell_type": "code",
   "execution_count": null,
   "metadata": {},
   "outputs": [],
   "source": []
  },
  {
   "cell_type": "code",
   "execution_count": null,
   "metadata": {},
   "outputs": [],
   "source": []
  },
  {
   "cell_type": "code",
   "execution_count": null,
   "metadata": {},
   "outputs": [],
   "source": [
    "import numpy as np\n",
    "import torch"
   ]
  },
  {
   "cell_type": "code",
   "execution_count": null,
   "metadata": {},
   "outputs": [],
   "source": [
    "emb_layer = torch.nn.Embedding(num_embeddings=17, embedding_dim=8)"
   ]
  },
  {
   "cell_type": "code",
   "execution_count": null,
   "metadata": {
    "scrolled": true
   },
   "outputs": [],
   "source": [
    "# emb_layer(torch.tensor([0, 0, 10, 16, 17]))"
   ]
  },
  {
   "cell_type": "code",
   "execution_count": null,
   "metadata": {},
   "outputs": [],
   "source": []
  },
  {
   "cell_type": "code",
   "execution_count": null,
   "metadata": {},
   "outputs": [],
   "source": []
  },
  {
   "cell_type": "code",
   "execution_count": null,
   "metadata": {},
   "outputs": [],
   "source": []
  }
 ],
 "metadata": {
  "kernelspec": {
   "display_name": "Python 3",
   "language": "python",
   "name": "python3"
  },
  "language_info": {
   "codemirror_mode": {
    "name": "ipython",
    "version": 3
   },
   "file_extension": ".py",
   "mimetype": "text/x-python",
   "name": "python",
   "nbconvert_exporter": "python",
   "pygments_lexer": "ipython3",
   "version": "3.7.3"
  }
 },
 "nbformat": 4,
 "nbformat_minor": 2
}
