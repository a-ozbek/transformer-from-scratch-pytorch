{
 "cells": [
  {
   "cell_type": "code",
   "execution_count": 1,
   "metadata": {},
   "outputs": [
    {
     "name": "stderr",
     "output_type": "stream",
     "text": [
      "Using TensorFlow backend.\n"
     ]
    }
   ],
   "source": [
    "import comet_ml\n",
    "import os\n",
    "import json\n",
    "import multiprocessing\n",
    "import numpy as np\n",
    "import pandas as pd\n",
    "import matplotlib.pyplot as plt\n",
    "%matplotlib inline\n",
    "from tqdm import tqdm, tqdm_notebook\n",
    "from sklearn.model_selection import train_test_split\n",
    "import torch\n",
    "import torch.nn as nn\n",
    "import torch.optim as optim\n",
    "from torch.utils.data import DataLoader\n",
    "from ml_util.monitor.comet_ml_exp import initialize_comet_ml_experiment\n",
    "from basic_transformer.models.basic_transformer import BasicTransformer\n",
    "from basic_transformer import utils as local_util\n",
    "RANDOM_SEED = 43\n",
    "np.random.seed(RANDOM_SEED)"
   ]
  },
  {
   "cell_type": "code",
   "execution_count": 2,
   "metadata": {},
   "outputs": [],
   "source": [
    "MODEL_VERSION = 'x.0.0'\n",
    "DATASET = 'yelp'  # 'yelp' or 'imdb'\n",
    "N_SAMPLE_YELP = 50_000\n",
    "TEST_SIZE = 0.2\n",
    "#\n",
    "N_EPOCHS = 5\n",
    "DIM = 128\n",
    "NUM_WORDS = 5_000\n",
    "MAX_SEQ_LEN = 128\n",
    "#\n",
    "TEXT_COLUMN = 'review'\n",
    "LABEL_COLUMN = 'sentiment'\n",
    "LABEL_MAPPING = {'negative': 0, 'positive': 1}\n",
    "# dataloaders\n",
    "BATCH_SIZE = 16\n",
    "SHUFFLE = True\n",
    "DEBUG_DF = False"
   ]
  },
  {
   "cell_type": "code",
   "execution_count": null,
   "metadata": {},
   "outputs": [],
   "source": []
  },
  {
   "cell_type": "markdown",
   "metadata": {},
   "source": [
    "# Get Data"
   ]
  },
  {
   "cell_type": "code",
   "execution_count": 3,
   "metadata": {
    "scrolled": true
   },
   "outputs": [],
   "source": [
    "if DATASET == 'yelp':\n",
    "    df = pd.read_csv(\"/media/can/datasets/yelp/df.csv\")\n",
    "    df['sentiment'] = df['stars'].replace({1: 'negative', 5: 'positive'})\n",
    "    df = df.rename(columns={'text': 'review'})\n",
    "    df = df.sample(n=N_SAMPLE_YELP, random_state=RANDOM_SEED)\n",
    "elif DATASET == 'imdb':\n",
    "    df = pd.read_csv(\"/media/can/datasets/imdb-50k-movie-review/IMDB Dataset.csv\")\n",
    "else:\n",
    "    raise ValueError(\"Invalid data: {}\".format(str(DATASET)))"
   ]
  },
  {
   "cell_type": "code",
   "execution_count": 4,
   "metadata": {},
   "outputs": [
    {
     "name": "stdout",
     "output_type": "stream",
     "text": [
      "len(df_train): 40000\n",
      "len(df_test): 10000\n"
     ]
    }
   ],
   "source": [
    "# train - test split \n",
    "df_train, df_test = train_test_split(df, test_size=TEST_SIZE)\n",
    "del df\n",
    "print(\"len(df_train):\", len(df_train))\n",
    "print(\"len(df_test):\", len(df_test))"
   ]
  },
  {
   "cell_type": "code",
   "execution_count": 6,
   "metadata": {},
   "outputs": [],
   "source": [
    "text_dataset_params = dict()\n",
    "text_dataset_params['num_words'] = NUM_WORDS\n",
    "text_dataset_params['text_column'] = TEXT_COLUMN\n",
    "text_dataset_params['label_column'] = LABEL_COLUMN\n",
    "text_dataset_params['label_mapping'] = LABEL_MAPPING\n",
    "text_dataset_params['max_seq_len'] = MAX_SEQ_LEN\n",
    "\n",
    "# datasets\n",
    "datagen_train = local_util.dataset_generator.TextDataset(df=df_train, **text_dataset_params)\n",
    "datagen_test = local_util.dataset_generator.TextDataset(df=df_test, **text_dataset_params)"
   ]
  },
  {
   "cell_type": "code",
   "execution_count": null,
   "metadata": {},
   "outputs": [],
   "source": [
    "dataloader_params = dict()\n",
    "dataloader_params['batch_size'] = BATCH_SIZE\n",
    "dataloader_params['num_workers'] = multiprocessing.cpu_count()\n",
    "dataloader_params['shuffle'] = SHUFFLE\n",
    "\n",
    "# dataloaders\n",
    "dataloader_train = DataLoader(dataset=datagen_train, **dataloader_params)\n",
    "dataloader_test = DataLoader(dataset=datagen_test, **dataloader_params)"
   ]
  },
  {
   "cell_type": "code",
   "execution_count": null,
   "metadata": {},
   "outputs": [],
   "source": []
  },
  {
   "cell_type": "code",
   "execution_count": null,
   "metadata": {},
   "outputs": [],
   "source": []
  },
  {
   "cell_type": "markdown",
   "metadata": {},
   "source": [
    "# Train"
   ]
  },
  {
   "cell_type": "code",
   "execution_count": null,
   "metadata": {},
   "outputs": [],
   "source": [
    "# get model\n",
    "model = BasicTransformer(dim=DIM, num_embeddings=NUM_WORDS, embedding_dim=DIM)"
   ]
  },
  {
   "cell_type": "code",
   "execution_count": null,
   "metadata": {},
   "outputs": [],
   "source": [
    "model.cuda()"
   ]
  },
  {
   "cell_type": "code",
   "execution_count": null,
   "metadata": {},
   "outputs": [],
   "source": [
    "# loss and optimizer\n",
    "criterion = nn.BCELoss()\n",
    "# optimizer = optim.SGD(model.parameters(), lr=0.001, momentum=0.9)\n",
    "optimizer = optim.Adam(model.parameters())"
   ]
  },
  {
   "cell_type": "code",
   "execution_count": null,
   "metadata": {
    "scrolled": true
   },
   "outputs": [],
   "source": [
    "# initialize comet experiment\n",
    "COMET_ML_EXPERIMENT, \\\n",
    "COMET_ML_EXPERIMENT_LINK = initialize_comet_ml_experiment(model_name=local_util.config.PROJECT_NAME, \n",
    "                                                          model_version=MODEL_VERSION)"
   ]
  },
  {
   "cell_type": "code",
   "execution_count": null,
   "metadata": {
    "scrolled": true
   },
   "outputs": [],
   "source": [
    "losses = list()\n",
    "running_loss = 0.0\n",
    "every = 200\n",
    "with COMET_ML_EXPERIMENT.train():\n",
    "    for epoch in range(N_EPOCHS):\n",
    "        avg_container = \n",
    "        for i, x in tqdm_notebook(enumerate(dataloader), total=len(dataloader)):\n",
    "            inputs = x['seq']\n",
    "            labels = x['label'].float()\n",
    "\n",
    "            inputs = inputs.cuda()\n",
    "            labels = labels.cuda()\n",
    "\n",
    "            #\n",
    "            optimizer.zero_grad()\n",
    "\n",
    "            # \n",
    "            outputs = model(inputs)\n",
    "            loss = criterion(outputs, labels)\n",
    "            loss.backward()\n",
    "            optimizer.step()\n",
    "            \n",
    "            # acc\n",
    "            y_true = labels.cpu().numpy().astype(np.int)\n",
    "            y_pred = (outputs > 0.5).cpu().numpy().astype(np.int).squeeze()\n",
    "            acc = np.mean(y_true == y_pred)\n",
    "            \n",
    "            # log\n",
    "            COMET_ML_EXPERIMENT.log_metric(\"batch_loss\", loss)\n",
    "            COMET_ML_EXPERIMENT.log_metric(\"batch_acc\", acc)"
   ]
  },
  {
   "cell_type": "code",
   "execution_count": null,
   "metadata": {},
   "outputs": [],
   "source": [
    "COMET_ML_EXPERIMENT.end()"
   ]
  },
  {
   "cell_type": "code",
   "execution_count": null,
   "metadata": {},
   "outputs": [],
   "source": []
  },
  {
   "cell_type": "code",
   "execution_count": null,
   "metadata": {},
   "outputs": [],
   "source": []
  },
  {
   "cell_type": "code",
   "execution_count": null,
   "metadata": {},
   "outputs": [],
   "source": []
  }
 ],
 "metadata": {
  "kernelspec": {
   "display_name": "Python 3",
   "language": "python",
   "name": "python3"
  },
  "language_info": {
   "codemirror_mode": {
    "name": "ipython",
    "version": 3
   },
   "file_extension": ".py",
   "mimetype": "text/x-python",
   "name": "python",
   "nbconvert_exporter": "python",
   "pygments_lexer": "ipython3",
   "version": "3.7.3"
  }
 },
 "nbformat": 4,
 "nbformat_minor": 2
}
