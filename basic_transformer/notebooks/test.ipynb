{
 "cells": [
  {
   "cell_type": "code",
   "execution_count": null,
   "metadata": {},
   "outputs": [],
   "source": [
    "import os\n",
    "import pickle\n",
    "import numpy as np\n",
    "import matplotlib.pyplot as plt\n",
    "%matplotlib inline\n",
    "import torch\n",
    "from basic_transformer.models.basic_transformer import BasicTransformer\n",
    "from basic_transformer import utils as local_util"
   ]
  },
  {
   "cell_type": "code",
   "execution_count": null,
   "metadata": {},
   "outputs": [],
   "source": [
    "# model params\n",
    "DIM = 16\n",
    "NUM_WORDS = 5_000\n",
    "MAX_SEQ_LEN = 128\n",
    "LOAD_MODEL_TYPE = 'entire'  # options: 'state-dict', 'entire'"
   ]
  },
  {
   "cell_type": "code",
   "execution_count": null,
   "metadata": {},
   "outputs": [],
   "source": []
  },
  {
   "cell_type": "markdown",
   "metadata": {},
   "source": [
    "# Load Model"
   ]
  },
  {
   "cell_type": "code",
   "execution_count": null,
   "metadata": {},
   "outputs": [],
   "source": [
    "MODEL_SAVE_PATH = os.path.join(\"/media/can/models/\", local_util.config.PROJECT_NAME)"
   ]
  },
  {
   "cell_type": "code",
   "execution_count": null,
   "metadata": {},
   "outputs": [],
   "source": [
    "# load tokenizer\n",
    "tokenizer = pickle.load(open(os.path.join(MODEL_SAVE_PATH, 'train_tokenizer.pkl'), \"rb\"))\n",
    "tokenizer"
   ]
  },
  {
   "cell_type": "code",
   "execution_count": null,
   "metadata": {},
   "outputs": [],
   "source": [
    "# load model\n",
    "if LOAD_MODEL_TYPE == 'state-dict':\n",
    "    model = BasicTransformer(dim=DIM, num_embeddings=NUM_WORDS, embedding_dim=DIM)\n",
    "    model_path = os.path.join(\"/media/can/models\", local_util.config.PROJECT_NAME, \"model.pth\")\n",
    "    model_state_dict = torch.load(model_path)\n",
    "    model.load_state_dict(model_state_dict)\n",
    "elif LOAD_MODEL_TYPE == 'entire':\n",
    "    f = os.path.join(\"/media/can/models\", local_util.config.PROJECT_NAME, \"model_entire.pth\")\n",
    "    model = torch.load(f)\n",
    "else:\n",
    "    raise ValueError(\"Unknown `LOAD_MODEL_TYPE`: {}\".format(LOAD_MODEL_TYPE))"
   ]
  },
  {
   "cell_type": "code",
   "execution_count": null,
   "metadata": {},
   "outputs": [],
   "source": [
    "model.W_q.device"
   ]
  },
  {
   "cell_type": "code",
   "execution_count": null,
   "metadata": {},
   "outputs": [],
   "source": [
    "# model.cuda()"
   ]
  },
  {
   "cell_type": "code",
   "execution_count": null,
   "metadata": {},
   "outputs": [],
   "source": [
    "model.eval()"
   ]
  },
  {
   "cell_type": "code",
   "execution_count": null,
   "metadata": {},
   "outputs": [],
   "source": []
  },
  {
   "cell_type": "markdown",
   "metadata": {},
   "source": [
    "# Do Test"
   ]
  },
  {
   "cell_type": "code",
   "execution_count": null,
   "metadata": {
    "scrolled": true
   },
   "outputs": [],
   "source": [
    "text = \"terrible service. waited 30 min and nobody offered water or take order. only one middle age lady taking order, deliver food, doing the cash and taking phone call for take out order. lots of customers waiting by the door and they don't even care.\"\n",
    "text_seq = tokenizer.texts_to_sequences([text])[0]\n",
    "text_seq = [local_util.data.fix_seq_len(text_seq, max_len=MAX_SEQ_LEN)]\n",
    "p = model(torch.tensor(text_seq).cuda())\n",
    "p"
   ]
  },
  {
   "cell_type": "code",
   "execution_count": null,
   "metadata": {},
   "outputs": [],
   "source": []
  },
  {
   "cell_type": "markdown",
   "metadata": {},
   "source": [
    "# Activations"
   ]
  },
  {
   "cell_type": "code",
   "execution_count": null,
   "metadata": {},
   "outputs": [],
   "source": [
    "_seq = text_seq[0]\n",
    "_seq = [_ for _ in _seq if _ != 0]\n",
    "_seq_text = tokenizer.sequences_to_texts([_seq])[0]\n",
    "print(_seq)\n",
    "print(_seq_text)"
   ]
  },
  {
   "cell_type": "code",
   "execution_count": null,
   "metadata": {},
   "outputs": [],
   "source": [
    "d = model.weights_per_timestep\n",
    "d_array = np.concatenate([d[i].numpy() for i in range(len(d))], axis=0)\n",
    "d_array.shape"
   ]
  },
  {
   "cell_type": "code",
   "execution_count": null,
   "metadata": {},
   "outputs": [],
   "source": [
    "d_array = d_array[: len(_seq), : len(_seq)]\n",
    "d_array.shape"
   ]
  },
  {
   "cell_type": "code",
   "execution_count": null,
   "metadata": {},
   "outputs": [],
   "source": [
    "# normalize axis=1\n",
    "d_array = local_util.math.normalize_axis_1(d_array)\n",
    "d_array.shape"
   ]
  },
  {
   "cell_type": "code",
   "execution_count": null,
   "metadata": {
    "scrolled": false
   },
   "outputs": [],
   "source": [
    "# Plot\n",
    "fig = plt.figure(figsize=(15, 15))\n",
    "plt.imshow(d_array)\n",
    "_ = plt.xticks(range(d_array.shape[1]), labels=_seq_text.split(' '), rotation=45)\n",
    "_ = plt.yticks(range(d_array.shape[0]), labels=_seq_text.split(' '))\n",
    "plt.grid('on')"
   ]
  },
  {
   "cell_type": "code",
   "execution_count": null,
   "metadata": {},
   "outputs": [],
   "source": []
  }
 ],
 "metadata": {
  "kernelspec": {
   "display_name": "Python 3",
   "language": "python",
   "name": "python3"
  },
  "language_info": {
   "codemirror_mode": {
    "name": "ipython",
    "version": 3
   },
   "file_extension": ".py",
   "mimetype": "text/x-python",
   "name": "python",
   "nbconvert_exporter": "python",
   "pygments_lexer": "ipython3",
   "version": "3.7.3"
  }
 },
 "nbformat": 4,
 "nbformat_minor": 2
}
